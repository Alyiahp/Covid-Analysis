{
 "cells": [
  {
   "cell_type": "markdown",
   "id": "78afdcc5",
   "metadata": {},
   "source": [
    "# Stage 3 - Alyiah Proctor "
   ]
  },
  {
   "cell_type": "code",
   "execution_count": 1,
   "id": "58cdc9ef",
   "metadata": {},
   "outputs": [],
   "source": [
    "import pandas as pd\n",
    "pd.options.plotting.backend = \"plotly\"\n",
    "from plotly.subplots import make_subplots\n",
    "from matplotlib import pyplot as plt\n",
    "import plotly.express as px\n",
    "import numpy as np\n",
    "from IPython.display import Image\n",
    "import matplotlib.image as mpimg\n",
    "import scipy.stats as stats"
   ]
  },
  {
   "cell_type": "markdown",
   "id": "cc4556d1",
   "metadata": {},
   "source": [
    "Reading in the data"
   ]
  },
  {
   "cell_type": "code",
   "execution_count": 2,
   "id": "dec06911",
   "metadata": {},
   "outputs": [],
   "source": [
    "cases = pd.read_csv(\"../../../../data/stage_2/covid_confirmed_usafacts.csv\")\n",
    "deaths =  pd.read_csv(\"../../../../data/stage_2/covid_deaths_usafacts.csv\")"
   ]
  },
  {
   "cell_type": "markdown",
   "id": "e953ee94",
   "metadata": {},
   "source": [
    "Getting the new cases and deaths of Arizona Per week"
   ]
  },
  {
   "cell_type": "code",
   "execution_count": 3,
   "id": "86fd2cbe",
   "metadata": {},
   "outputs": [
    {
     "name": "stderr",
     "output_type": "stream",
     "text": [
      "C:\\Users\\alyia\\AppData\\Local\\Temp\\ipykernel_71800\\4263916138.py:17: PerformanceWarning: DataFrame is highly fragmented.  This is usually the result of calling `frame.insert` many times, which has poor performance.  Consider joining all columns at once using pd.concat(axis=1) instead.  To get a de-fragmented frame, use `newframe = frame.copy()`\n",
      "  AZ_new_deaths[column] = AZ_deaths.iloc[:,column] - AZ_deaths.iloc[:,column-1]\n",
      "C:\\Users\\alyia\\AppData\\Local\\Temp\\ipykernel_71800\\4263916138.py:23: PerformanceWarning: DataFrame is highly fragmented.  This is usually the result of calling `frame.insert` many times, which has poor performance.  Consider joining all columns at once using pd.concat(axis=1) instead.  To get a de-fragmented frame, use `newframe = frame.copy()`\n",
      "  AZ_new_cases[column] = AZ_cases.iloc[:,column] - AZ_cases.iloc[:,column-1]\n"
     ]
    }
   ],
   "source": [
    "deaths = deaths.drop(deaths.index[cases['countyFIPS'] == 0])\n",
    "cases = cases.drop(cases.index[cases['countyFIPS'] == 0])\n",
    "\n",
    "#getting only arizona cases and deaths\n",
    "cases = cases.groupby('State')\n",
    "chunks = dict(list(cases))\n",
    "AZ_cases = chunks['AZ']\n",
    "\n",
    "deaths = deaths.groupby('State')\n",
    "chunks = dict(list(deaths))\n",
    "AZ_deaths = chunks['AZ']\n",
    "\n",
    "#getting the new cases/deaths by subtracting the day by the day before\n",
    "AZ_new_deaths = pd.DataFrame()\n",
    "\n",
    "for column in range(5,577):\n",
    "  AZ_new_deaths[column] = AZ_deaths.iloc[:,column] - AZ_deaths.iloc[:,column-1] \n",
    "\n",
    "\n",
    "AZ_new_cases = pd.DataFrame()\n",
    "\n",
    "for column in range(5,577):\n",
    "  AZ_new_cases[column] = AZ_cases.iloc[:,column] - AZ_cases.iloc[:,column-1] "
   ]
  },
  {
   "cell_type": "markdown",
   "id": "a2ab9de3",
   "metadata": {},
   "source": [
    "Grouping the data by weeks and getting the average so we have data from all counties. "
   ]
  },
  {
   "cell_type": "code",
   "execution_count": 4,
   "id": "be948ee6",
   "metadata": {},
   "outputs": [],
   "source": [
    "AZ_week_deaths = pd.DataFrame()\n",
    "AZ_week_cases = pd.DataFrame()\n",
    "\n",
    "AZ_week_deaths = AZ_new_deaths.groupby([[i//7 for i in range(0, 572)]], axis = 1).sum()\n",
    "AZ_week_cases = AZ_new_cases.groupby([[i//7 for i in range(0, 572)]], axis = 1).sum()\n",
    "\n",
    "#Average cases\n",
    "AZ_avg_cases = pd.DataFrame\n",
    "AZ_avg_cases= pd.DataFrame(AZ_week_cases.mean(axis=0).round())\n",
    "AZ_avg_cases.columns = ['AZ_cases_avg']\n",
    "#Average deaths\n",
    "AZ_avg_deaths = pd.DataFrame\n",
    "AZ_avg_deaths= pd.DataFrame(AZ_week_deaths.mean(axis=0).round())\n",
    "AZ_avg_deaths.columns = ['AZ_deaths_avg']\n",
    "\n",
    "#joining them \n",
    "AZ_averages = AZ_avg_cases.join(AZ_avg_deaths)"
   ]
  },
  {
   "cell_type": "code",
   "execution_count": 5,
   "id": "8025f5af",
   "metadata": {},
   "outputs": [
    {
     "data": {
      "text/html": [
       "<div>\n",
       "<style scoped>\n",
       "    .dataframe tbody tr th:only-of-type {\n",
       "        vertical-align: middle;\n",
       "    }\n",
       "\n",
       "    .dataframe tbody tr th {\n",
       "        vertical-align: top;\n",
       "    }\n",
       "\n",
       "    .dataframe thead th {\n",
       "        text-align: right;\n",
       "    }\n",
       "</style>\n",
       "<table border=\"1\" class=\"dataframe\">\n",
       "  <thead>\n",
       "    <tr style=\"text-align: right;\">\n",
       "      <th></th>\n",
       "      <th>AZ_cases_avg</th>\n",
       "      <th>AZ_deaths_avg</th>\n",
       "    </tr>\n",
       "  </thead>\n",
       "  <tbody>\n",
       "    <tr>\n",
       "      <th>0</th>\n",
       "      <td>0.0</td>\n",
       "      <td>0.0</td>\n",
       "    </tr>\n",
       "    <tr>\n",
       "      <th>1</th>\n",
       "      <td>0.0</td>\n",
       "      <td>0.0</td>\n",
       "    </tr>\n",
       "    <tr>\n",
       "      <th>2</th>\n",
       "      <td>0.0</td>\n",
       "      <td>0.0</td>\n",
       "    </tr>\n",
       "    <tr>\n",
       "      <th>3</th>\n",
       "      <td>0.0</td>\n",
       "      <td>0.0</td>\n",
       "    </tr>\n",
       "    <tr>\n",
       "      <th>4</th>\n",
       "      <td>0.0</td>\n",
       "      <td>0.0</td>\n",
       "    </tr>\n",
       "    <tr>\n",
       "      <th>...</th>\n",
       "      <td>...</td>\n",
       "      <td>...</td>\n",
       "    </tr>\n",
       "    <tr>\n",
       "      <th>77</th>\n",
       "      <td>509.0</td>\n",
       "      <td>3.0</td>\n",
       "    </tr>\n",
       "    <tr>\n",
       "      <th>78</th>\n",
       "      <td>664.0</td>\n",
       "      <td>4.0</td>\n",
       "    </tr>\n",
       "    <tr>\n",
       "      <th>79</th>\n",
       "      <td>947.0</td>\n",
       "      <td>7.0</td>\n",
       "    </tr>\n",
       "    <tr>\n",
       "      <th>80</th>\n",
       "      <td>1143.0</td>\n",
       "      <td>8.0</td>\n",
       "    </tr>\n",
       "    <tr>\n",
       "      <th>81</th>\n",
       "      <td>1004.0</td>\n",
       "      <td>4.0</td>\n",
       "    </tr>\n",
       "  </tbody>\n",
       "</table>\n",
       "<p>82 rows × 2 columns</p>\n",
       "</div>"
      ],
      "text/plain": [
       "    AZ_cases_avg  AZ_deaths_avg\n",
       "0            0.0            0.0\n",
       "1            0.0            0.0\n",
       "2            0.0            0.0\n",
       "3            0.0            0.0\n",
       "4            0.0            0.0\n",
       "..           ...            ...\n",
       "77         509.0            3.0\n",
       "78         664.0            4.0\n",
       "79         947.0            7.0\n",
       "80        1143.0            8.0\n",
       "81        1004.0            4.0\n",
       "\n",
       "[82 rows x 2 columns]"
      ]
     },
     "execution_count": 5,
     "metadata": {},
     "output_type": "execute_result"
    }
   ],
   "source": [
    "AZ_averages"
   ]
  },
  {
   "cell_type": "markdown",
   "id": "d27295cd",
   "metadata": {},
   "source": [
    "We will attempt to fit the data with a geometric distribution. The probability Mass Function of a geometric distribution has a mean of 1/p. Source: https://www.alphacodingskills.com/scipy/scipy-geometric-distribution.php. So to fit this distribution we will use Method of Moments. We can solve mean = 1/p for the value p with basic algebra. We can conclude p=1/mean. This will be the value used in the PMF distribution"
   ]
  },
  {
   "cell_type": "code",
   "execution_count": 6,
   "id": "0f112e70",
   "metadata": {},
   "outputs": [
    {
     "data": {
      "text/plain": [
       "AZ_cases_avg    0.001271\n",
       "dtype: float64"
      ]
     },
     "execution_count": 6,
     "metadata": {},
     "output_type": "execute_result"
    }
   ],
   "source": [
    "mean = AZ_avg_cases.mean()\n",
    "p = 1/mean\n",
    "\n",
    "#fitting the geometric distripution\n",
    "y = stats.geom.pmf(AZ_avg_cases, p)\n",
    "p"
   ]
  },
  {
   "cell_type": "markdown",
   "id": "7dd3ca37",
   "metadata": {},
   "source": [
    "#### Our p value is 0.001271. Now we can plot our geometric distribution. "
   ]
  },
  {
   "cell_type": "code",
   "execution_count": 7,
   "id": "640d54fb",
   "metadata": {
    "scrolled": false
   },
   "outputs": [
    {
     "data": {
      "image/jpeg": "[encoded data removed]",
      "text/plain": [
       "<IPython.core.display.Image object>"
      ]
     },
     "execution_count": 7,
     "metadata": {},
     "output_type": "execute_result"
    }
   ],
   "source": [
    "la = pd.DataFrame(y).join(AZ_averages['AZ_cases_avg'])\n",
    "la.columns = ['probability','avg_new_cases']\n",
    "fig = la.plot(x= 'avg_new_cases',y='probability',kind = 'scatter')\n",
    "\n",
    "img_bytes = fig.to_image(format=\"jpeg\")\n",
    "Image(img_bytes)"
   ]
  },
  {
   "cell_type": "markdown",
   "id": "886439ac",
   "metadata": {},
   "source": [
    "- The graph above represents a geometric distribution, where p is the  0.001271 probability success rate of seeing a new case.  The data is skewed to the right, with the highest probability of seeing new cases occuring with the lower amount of cases. Which makes sense as you would on average have a higher chance of seeing 50 new cases rather than 3000. The graph is unimodal with one peak occuring at the beggining of the data. Arizona had the highest probability of seeing 1 new case. The graph also shows a high spread as the number of avg cases increases Now lets compare these results to other states. "
   ]
  },
  {
   "cell_type": "markdown",
   "id": "493b1a7b",
   "metadata": {},
   "source": [
    "### Massachusetts"
   ]
  },
  {
   "cell_type": "code",
   "execution_count": 8,
   "id": "64574215",
   "metadata": {},
   "outputs": [
    {
     "name": "stderr",
     "output_type": "stream",
     "text": [
      "C:\\Users\\alyia\\AppData\\Local\\Temp\\ipykernel_71800\\693413480.py:11: PerformanceWarning:\n",
      "\n",
      "DataFrame is highly fragmented.  This is usually the result of calling `frame.insert` many times, which has poor performance.  Consider joining all columns at once using pd.concat(axis=1) instead.  To get a de-fragmented frame, use `newframe = frame.copy()`\n",
      "\n",
      "C:\\Users\\alyia\\AppData\\Local\\Temp\\ipykernel_71800\\693413480.py:15: PerformanceWarning:\n",
      "\n",
      "DataFrame is highly fragmented.  This is usually the result of calling `frame.insert` many times, which has poor performance.  Consider joining all columns at once using pd.concat(axis=1) instead.  To get a de-fragmented frame, use `newframe = frame.copy()`\n",
      "\n"
     ]
    }
   ],
   "source": [
    "#Massachusetts \n",
    "\n",
    "chunks = dict(list(cases))\n",
    "MA_cases = chunks['MA']\n",
    "chunks = dict(list(deaths))\n",
    "MA_deaths = chunks['MA']\n",
    "\n",
    "# Caclulating new deaths and cases\n",
    "MA_new_deaths = pd.DataFrame()\n",
    "for column in range(5,577):\n",
    "  MA_new_deaths[column] = MA_deaths.iloc[:,column] - MA_deaths.iloc[:,column-1] \n",
    "\n",
    "MA_new_cases = pd.DataFrame()\n",
    "for column in range(5,577):\n",
    "  MA_new_cases[column] = MA_cases.iloc[:,column] - MA_cases.iloc[:,column-1] \n",
    "\n",
    "#getting weekly sum \n",
    "MA_week_deaths = pd.DataFrame()\n",
    "MA_week_cases = pd.DataFrame()\n",
    "\n",
    "MA_week_deaths = MA_new_deaths.groupby([[i//7 for i in range(0, 572)]], axis = 1).sum()\n",
    "MA_week_cases = MA_new_cases.groupby([[i//7 for i in range(0, 572)]], axis = 1).sum()\n",
    "\n",
    "#Average cases\n",
    "MA_avg_cases = pd.DataFrame\n",
    "MA_avg_cases= pd.DataFrame(MA_week_cases.mean(axis=0).round())\n",
    "MA_avg_cases.columns = ['MA_cases_avg']\n",
    "\n",
    "#Average deaths\n",
    "MA_avg_deaths = pd.DataFrame\n",
    "MA_avg_deaths= pd.DataFrame(MA_week_deaths.mean(axis=0).round())\n",
    "MA_avg_deaths.columns = ['MA_deaths_avg']\n",
    "\n",
    "#joining them \n",
    "MA_averages = MA_avg_cases.join(MA_avg_deaths)\n",
    "\n",
    "#Normalizing\n",
    "MA_averages = MA_averages.apply(lambda x: (x/6922107) *100000)"
   ]
  },
  {
   "cell_type": "markdown",
   "id": "90ef94bd",
   "metadata": {},
   "source": [
    "Fitting the data to a geometric distribution"
   ]
  },
  {
   "cell_type": "code",
   "execution_count": 9,
   "id": "b45bfec6",
   "metadata": {},
   "outputs": [
    {
     "data": {
      "text/plain": [
       "MA_cases_avg    0.001668\n",
       "dtype: float64"
      ]
     },
     "execution_count": 9,
     "metadata": {},
     "output_type": "execute_result"
    }
   ],
   "source": [
    "mean = MA_avg_cases.mean()\n",
    "p = 1/mean\n",
    "\n",
    "\n",
    "#fitting the geometric distripution\n",
    "y = stats.geom.pmf(MA_avg_cases, p)\n",
    "p"
   ]
  },
  {
   "cell_type": "code",
   "execution_count": 10,
   "id": "0397642d",
   "metadata": {},
   "outputs": [
    {
     "data": {
      "image/jpeg": "[encoded data removed]",
      "text/plain": [
       "<IPython.core.display.Image object>"
      ]
     },
     "execution_count": 10,
     "metadata": {},
     "output_type": "execute_result"
    }
   ],
   "source": [
    "la = pd.DataFrame(y).join(MA_avg_cases) \n",
    "la.columns = ['probability','avg_new_cases']\n",
    "fig = la.plot(x= 'avg_new_cases',y='probability',kind = 'scatter')\n",
    "img_bytes = fig.to_image(format=\"jpeg\")\n",
    "Image(img_bytes)"
   ]
  },
  {
   "cell_type": "markdown",
   "id": "ff7cc53e",
   "metadata": {},
   "source": [
    "- The graph above represents a geometric distribution, where p is the  0.0.001668 probability success rate of seeing a new case. The graph physically is very similar to Arizonas, but the probability of seeing one new case is higher than Arizonas. The spread of this graph is different as well. The variations are lower as more data is packed between the ranges of 0-1000 new cases than in Arizonas graph. The other statistical and physical descriptors otherwise are the same. "
   ]
  },
  {
   "cell_type": "markdown",
   "id": "a321e687",
   "metadata": {},
   "source": [
    "#### Washington"
   ]
  },
  {
   "cell_type": "code",
   "execution_count": 11,
   "id": "bf4cb293",
   "metadata": {},
   "outputs": [
    {
     "name": "stderr",
     "output_type": "stream",
     "text": [
      "C:\\Users\\alyia\\AppData\\Local\\Temp\\ipykernel_71800\\619527704.py:10: PerformanceWarning:\n",
      "\n",
      "DataFrame is highly fragmented.  This is usually the result of calling `frame.insert` many times, which has poor performance.  Consider joining all columns at once using pd.concat(axis=1) instead.  To get a de-fragmented frame, use `newframe = frame.copy()`\n",
      "\n",
      "C:\\Users\\alyia\\AppData\\Local\\Temp\\ipykernel_71800\\619527704.py:14: PerformanceWarning:\n",
      "\n",
      "DataFrame is highly fragmented.  This is usually the result of calling `frame.insert` many times, which has poor performance.  Consider joining all columns at once using pd.concat(axis=1) instead.  To get a de-fragmented frame, use `newframe = frame.copy()`\n",
      "\n"
     ]
    }
   ],
   "source": [
    "#Washington\n",
    "chunks = dict(list(cases))\n",
    "WA_cases = chunks['WA']\n",
    "chunks = dict(list(deaths))\n",
    "WA_deaths = chunks['WA']\n",
    "\n",
    "# Caclulating new deaths and cases\n",
    "WA_new_deaths = pd.DataFrame()\n",
    "for column in range(5,577):\n",
    "  WA_new_deaths[column] = WA_deaths.iloc[:,column] - WA_deaths.iloc[:,column-1] \n",
    "\n",
    "WA_new_cases = pd.DataFrame()\n",
    "for column in range(5,577):\n",
    "  WA_new_cases[column] = WA_cases.iloc[:,column] - WA_cases.iloc[:,column-1] \n",
    "\n",
    "#getting weekly sum \n",
    "WA_week_deaths = pd.DataFrame()\n",
    "WA_week_cases = pd.DataFrame()\n",
    "\n",
    "WA_week_deaths = WA_new_deaths.groupby([[i//7 for i in range(0, 572)]], axis = 1).sum()\n",
    "WA_week_cases = WA_new_cases.groupby([[i//7 for i in range(0, 572)]], axis = 1).sum()\n",
    "\n",
    "#Average cases\n",
    "WA_avg_cases = pd.DataFrame\n",
    "WA_avg_cases= pd.DataFrame(WA_week_cases.mean(axis=0).round())\n",
    "WA_avg_cases.columns = ['WA_cases_avg']\n",
    "\n",
    "#Average deaths\n",
    "WA_avg_deaths = pd.DataFrame\n",
    "WA_avg_deaths= pd.DataFrame(WA_week_deaths.mean(axis=0).round())\n",
    "WA_avg_deaths.columns = ['WA_deaths_avg']\n",
    "\n",
    "#joining them \n",
    "WA_averages = WA_avg_cases.join(WA_avg_deaths)\n"
   ]
  },
  {
   "cell_type": "code",
   "execution_count": 12,
   "id": "2eecb32e",
   "metadata": {},
   "outputs": [
    {
     "data": {
      "image/jpeg": "[encoded data removed]",
      "text/plain": [
       "<IPython.core.display.Image object>"
      ]
     },
     "execution_count": 12,
     "metadata": {},
     "output_type": "execute_result"
    }
   ],
   "source": [
    "mean = WA_avg_cases.mean()\n",
    "p = 1/mean\n",
    "\n",
    "\n",
    "#fitting the geometric distripution\n",
    "y = stats.geom.pmf(WA_avg_cases, p)\n",
    "la = pd.DataFrame(y).join(WA_avg_cases) \n",
    "la.columns = ['probability','avg_new_cases']\n",
    "fig = la.plot(x= 'avg_new_cases',y='probability',kind = 'scatter')\n",
    "img_bytes = fig.to_image(format=\"jpeg\")\n",
    "Image(img_bytes)"
   ]
  },
  {
   "cell_type": "markdown",
   "id": "5d2681c2",
   "metadata": {},
   "source": [
    "- The graph above represents a geometric distribution, where p is the  0.0.0062 probability success rate of seeing a new case. The probability of seeing one new case is significantly higher than Arizonas. The spread of the graph is also significantly lower than arizonas. Meaning that WA has a lower variance in avg new cases compared to arizona. As like Arizona the graph has one peak, unimodal, and is skewed to the right. "
   ]
  },
  {
   "cell_type": "markdown",
   "id": "f57f1087",
   "metadata": {},
   "source": [
    "### Indiana"
   ]
  },
  {
   "cell_type": "code",
   "execution_count": 13,
   "id": "66fab772",
   "metadata": {},
   "outputs": [
    {
     "name": "stderr",
     "output_type": "stream",
     "text": [
      "C:\\Users\\alyia\\AppData\\Local\\Temp\\ipykernel_71800\\1850401038.py:9: PerformanceWarning:\n",
      "\n",
      "DataFrame is highly fragmented.  This is usually the result of calling `frame.insert` many times, which has poor performance.  Consider joining all columns at once using pd.concat(axis=1) instead.  To get a de-fragmented frame, use `newframe = frame.copy()`\n",
      "\n",
      "C:\\Users\\alyia\\AppData\\Local\\Temp\\ipykernel_71800\\1850401038.py:13: PerformanceWarning:\n",
      "\n",
      "DataFrame is highly fragmented.  This is usually the result of calling `frame.insert` many times, which has poor performance.  Consider joining all columns at once using pd.concat(axis=1) instead.  To get a de-fragmented frame, use `newframe = frame.copy()`\n",
      "\n"
     ]
    }
   ],
   "source": [
    "chunks = dict(list(cases))\n",
    "IN_cases = chunks['IN']\n",
    "chunks = dict(list(deaths))\n",
    "IN_deaths = chunks['IN']\n",
    "\n",
    "# Caclulating new deaths and cases\n",
    "IN_new_deaths = pd.DataFrame()\n",
    "for column in range(5,577):\n",
    "  IN_new_deaths[column] = IN_deaths.iloc[:,column] - IN_deaths.iloc[:,column-1] \n",
    "\n",
    "IN_new_cases = pd.DataFrame()\n",
    "for column in range(5,577):\n",
    "  IN_new_cases[column] = IN_cases.iloc[:,column] - IN_cases.iloc[:,column-1] \n",
    "\n",
    "#getting weekly sum \n",
    "IN_week_deaths = pd.DataFrame()\n",
    "IN_week_cases = pd.DataFrame()\n",
    "\n",
    "IN_week_deaths = IN_new_deaths.groupby([[i//7 for i in range(0, 572)]], axis = 1).sum()\n",
    "IN_week_cases = IN_new_cases.groupby([[i//7 for i in range(0, 572)]], axis = 1).sum()\n",
    "\n",
    "#Average cases\n",
    "IN_avg_cases = pd.DataFrame\n",
    "IN_avg_cases= pd.DataFrame(IN_week_cases.mean(axis=0).round())\n",
    "IN_avg_cases.columns = ['IN_cases_avg']\n",
    "\n",
    "#Average deaths\n",
    "IN_avg_deaths = pd.DataFrame\n",
    "IN_avg_deaths= pd.DataFrame(IN_week_deaths.mean(axis=0).round())\n",
    "IN_avg_deaths.columns = ['IN_deaths_avg']\n",
    "\n",
    "#joining them \n",
    "IN_averages = IN_avg_cases.join(IN_avg_deaths)"
   ]
  },
  {
   "cell_type": "code",
   "execution_count": 14,
   "id": "4a77d301",
   "metadata": {},
   "outputs": [
    {
     "data": {
      "image/jpeg": "[encoded data removed]",
      "text/plain": [
       "<IPython.core.display.Image object>"
      ]
     },
     "execution_count": 14,
     "metadata": {},
     "output_type": "execute_result"
    }
   ],
   "source": [
    "mean = IN_avg_cases.mean()\n",
    "p = 1/mean\n",
    "\n",
    "\n",
    "#fitting the geometric distripution\n",
    "y = stats.geom.pmf(IN_avg_cases, p)\n",
    "la = pd.DataFrame(y).join(IN_avg_cases) \n",
    "la.columns = ['probability','avg_new_cases']\n",
    "fig = la.plot(x= 'avg_new_cases',y='probability',kind = 'scatter')\n",
    "img_bytes = fig.to_image(format=\"jpeg\")\n",
    "Image(img_bytes)"
   ]
  },
  {
   "cell_type": "markdown",
   "id": "2646ceeb",
   "metadata": {},
   "source": [
    "- The graph above represents a geometric distribution, where p is the  0.0.0084 probability success rate of seeing a new case. The probability of seeing one new case is significantly higher than Arizonas. The spread of the graph is also significantly lower than arizonas. Meaning that Tennessee has a lower variance in avg new cases compared to arizona. As like Arizona the graph has one peak, unimodal, and is skewed to the right. "
   ]
  },
  {
   "cell_type": "markdown",
   "id": "4142dba2",
   "metadata": {},
   "source": [
    "### TENNESSEE"
   ]
  },
  {
   "cell_type": "code",
   "execution_count": 15,
   "id": "c01bf241",
   "metadata": {},
   "outputs": [
    {
     "name": "stderr",
     "output_type": "stream",
     "text": [
      "C:\\Users\\alyia\\AppData\\Local\\Temp\\ipykernel_71800\\3865289520.py:9: PerformanceWarning:\n",
      "\n",
      "DataFrame is highly fragmented.  This is usually the result of calling `frame.insert` many times, which has poor performance.  Consider joining all columns at once using pd.concat(axis=1) instead.  To get a de-fragmented frame, use `newframe = frame.copy()`\n",
      "\n",
      "C:\\Users\\alyia\\AppData\\Local\\Temp\\ipykernel_71800\\3865289520.py:13: PerformanceWarning:\n",
      "\n",
      "DataFrame is highly fragmented.  This is usually the result of calling `frame.insert` many times, which has poor performance.  Consider joining all columns at once using pd.concat(axis=1) instead.  To get a de-fragmented frame, use `newframe = frame.copy()`\n",
      "\n"
     ]
    }
   ],
   "source": [
    "chunks = dict(list(cases))\n",
    "TN_cases = chunks['TN']\n",
    "chunks = dict(list(deaths))\n",
    "TN_deaths = chunks['TN']\n",
    "\n",
    "# Caclulating new deaths and cases\n",
    "TN_new_deaths = pd.DataFrame()\n",
    "for column in range(5,577):\n",
    "  TN_new_deaths[column] = TN_deaths.iloc[:,column] - TN_deaths.iloc[:,column-1] \n",
    "\n",
    "TN_new_cases = pd.DataFrame()\n",
    "for column in range(5,577):\n",
    "  TN_new_cases[column] = TN_cases.iloc[:,column] - TN_cases.iloc[:,column-1] \n",
    "\n",
    "#getting weekly sum \n",
    "TN_week_deaths = pd.DataFrame()\n",
    "TN_week_cases = pd.DataFrame()\n",
    "\n",
    "TN_week_deaths = TN_new_deaths.groupby([[i//7 for i in range(0, 572)]], axis = 1).sum()\n",
    "TN_week_cases = TN_new_cases.groupby([[i//7 for i in range(0, 572)]], axis = 1).sum()\n",
    "\n",
    "#Average cases\n",
    "TN_avg_cases = pd.DataFrame\n",
    "TN_avg_cases= pd.DataFrame(TN_week_cases.mean(axis=0).round())\n",
    "TN_avg_cases.columns = ['TN_cases_avg']\n",
    "\n",
    "#Average deaths\n",
    "TN_avg_deaths = pd.DataFrame\n",
    "TN_avg_deaths= pd.DataFrame(TN_week_deaths.mean(axis=0).round())\n",
    "TN_avg_deaths.columns = ['TN_deaths_avg']\n",
    "\n",
    "#joining them \n",
    "TN_averages = TN_avg_cases.join(TN_avg_deaths)"
   ]
  },
  {
   "cell_type": "code",
   "execution_count": 16,
   "id": "c95baa86",
   "metadata": {},
   "outputs": [
    {
     "data": {
      "image/jpeg": "[encoded data removed]",
      "text/plain": [
       "<IPython.core.display.Image object>"
      ]
     },
     "execution_count": 16,
     "metadata": {},
     "output_type": "execute_result"
    }
   ],
   "source": [
    "mean = TN_avg_cases.mean()\n",
    "p = 1/mean\n",
    "\n",
    "\n",
    "#fitting the geometric distripution\n",
    "y = stats.geom.pmf(TN_avg_cases, p)\n",
    "la = pd.DataFrame(y).join(TN_avg_cases) \n",
    "la.columns = ['probability','avg_new_cases']\n",
    "fig = la.plot(x= 'avg_new_cases',y='probability',kind = 'scatter')\n",
    "img_bytes = fig.to_image(format=\"jpeg\")\n",
    "Image(img_bytes)"
   ]
  },
  {
   "cell_type": "markdown",
   "id": "c88d9048",
   "metadata": {},
   "source": [
    "- The graph above represents a geometric distribution, where p is the  0.0.0084 probability success rate of seeing a new case. The probability of seeing one new case is significantly higher than Arizonas. The spread of the graph is also significantly lower than arizonas. Meaning that Tennessee has a lower variance in avg new cases compared to arizona. As like Arizona the graph has one peak, unimodal, and is skewed to the right. "
   ]
  },
  {
   "cell_type": "markdown",
   "id": "c048e4bf",
   "metadata": {},
   "source": [
    "### Missouri "
   ]
  },
  {
   "cell_type": "code",
   "execution_count": 17,
   "id": "7eaaec6d",
   "metadata": {},
   "outputs": [
    {
     "name": "stderr",
     "output_type": "stream",
     "text": [
      "C:\\Users\\alyia\\AppData\\Local\\Temp\\ipykernel_71800\\31955194.py:9: PerformanceWarning:\n",
      "\n",
      "DataFrame is highly fragmented.  This is usually the result of calling `frame.insert` many times, which has poor performance.  Consider joining all columns at once using pd.concat(axis=1) instead.  To get a de-fragmented frame, use `newframe = frame.copy()`\n",
      "\n",
      "C:\\Users\\alyia\\AppData\\Local\\Temp\\ipykernel_71800\\31955194.py:13: PerformanceWarning:\n",
      "\n",
      "DataFrame is highly fragmented.  This is usually the result of calling `frame.insert` many times, which has poor performance.  Consider joining all columns at once using pd.concat(axis=1) instead.  To get a de-fragmented frame, use `newframe = frame.copy()`\n",
      "\n"
     ]
    },
    {
     "data": {
      "text/html": [
       "<div>\n",
       "<style scoped>\n",
       "    .dataframe tbody tr th:only-of-type {\n",
       "        vertical-align: middle;\n",
       "    }\n",
       "\n",
       "    .dataframe tbody tr th {\n",
       "        vertical-align: top;\n",
       "    }\n",
       "\n",
       "    .dataframe thead th {\n",
       "        text-align: right;\n",
       "    }\n",
       "</style>\n",
       "<table border=\"1\" class=\"dataframe\">\n",
       "  <thead>\n",
       "    <tr style=\"text-align: right;\">\n",
       "      <th></th>\n",
       "      <th>MO_cases_avg</th>\n",
       "      <th>MO_deaths_avg</th>\n",
       "    </tr>\n",
       "  </thead>\n",
       "  <tbody>\n",
       "    <tr>\n",
       "      <th>0</th>\n",
       "      <td>0.0</td>\n",
       "      <td>0.0</td>\n",
       "    </tr>\n",
       "    <tr>\n",
       "      <th>1</th>\n",
       "      <td>0.0</td>\n",
       "      <td>0.0</td>\n",
       "    </tr>\n",
       "    <tr>\n",
       "      <th>2</th>\n",
       "      <td>0.0</td>\n",
       "      <td>0.0</td>\n",
       "    </tr>\n",
       "    <tr>\n",
       "      <th>3</th>\n",
       "      <td>0.0</td>\n",
       "      <td>0.0</td>\n",
       "    </tr>\n",
       "    <tr>\n",
       "      <th>4</th>\n",
       "      <td>0.0</td>\n",
       "      <td>0.0</td>\n",
       "    </tr>\n",
       "    <tr>\n",
       "      <th>...</th>\n",
       "      <td>...</td>\n",
       "      <td>...</td>\n",
       "    </tr>\n",
       "    <tr>\n",
       "      <th>77</th>\n",
       "      <td>131.0</td>\n",
       "      <td>1.0</td>\n",
       "    </tr>\n",
       "    <tr>\n",
       "      <th>78</th>\n",
       "      <td>150.0</td>\n",
       "      <td>1.0</td>\n",
       "    </tr>\n",
       "    <tr>\n",
       "      <th>79</th>\n",
       "      <td>176.0</td>\n",
       "      <td>1.0</td>\n",
       "    </tr>\n",
       "    <tr>\n",
       "      <th>80</th>\n",
       "      <td>171.0</td>\n",
       "      <td>2.0</td>\n",
       "    </tr>\n",
       "    <tr>\n",
       "      <th>81</th>\n",
       "      <td>112.0</td>\n",
       "      <td>0.0</td>\n",
       "    </tr>\n",
       "  </tbody>\n",
       "</table>\n",
       "<p>82 rows × 2 columns</p>\n",
       "</div>"
      ],
      "text/plain": [
       "    MO_cases_avg  MO_deaths_avg\n",
       "0            0.0            0.0\n",
       "1            0.0            0.0\n",
       "2            0.0            0.0\n",
       "3            0.0            0.0\n",
       "4            0.0            0.0\n",
       "..           ...            ...\n",
       "77         131.0            1.0\n",
       "78         150.0            1.0\n",
       "79         176.0            1.0\n",
       "80         171.0            2.0\n",
       "81         112.0            0.0\n",
       "\n",
       "[82 rows x 2 columns]"
      ]
     },
     "execution_count": 17,
     "metadata": {},
     "output_type": "execute_result"
    }
   ],
   "source": [
    "chunks = dict(list(cases))\n",
    "MO_cases = chunks['MO']\n",
    "chunks = dict(list(deaths))\n",
    "MO_deaths = chunks['MO']\n",
    "\n",
    "# Caclulating new deaths and cases\n",
    "MO_new_deaths = pd.DataFrame()\n",
    "for column in range(5,577):\n",
    "  MO_new_deaths[column] = MO_deaths.iloc[:,column] - MO_deaths.iloc[:,column-1] \n",
    "\n",
    "MO_new_cases = pd.DataFrame()\n",
    "for column in range(5,577):\n",
    "  MO_new_cases[column] = MO_cases.iloc[:,column] - MO_cases.iloc[:,column-1] \n",
    "\n",
    "#getting weekly sum \n",
    "MO_week_deaths = pd.DataFrame()\n",
    "MO_week_cases = pd.DataFrame()\n",
    "\n",
    "MO_week_deaths = MO_new_deaths.groupby([[i//7 for i in range(0, 572)]], axis = 1).sum()\n",
    "MO_week_cases = MO_new_cases.groupby([[i//7 for i in range(0, 572)]], axis = 1).sum()\n",
    "\n",
    "#Average cases\n",
    "MO_avg_cases = pd.DataFrame\n",
    "MO_avg_cases= pd.DataFrame(MO_week_cases.mean(axis=0).round())\n",
    "MO_avg_cases.columns = ['MO_cases_avg']\n",
    "\n",
    "#Average deaths\n",
    "MO_avg_deaths = pd.DataFrame\n",
    "MO_avg_deaths= pd.DataFrame(MO_week_deaths.mean(axis=0).round())\n",
    "MO_avg_deaths.columns = ['MO_deaths_avg']\n",
    "\n",
    "#joining them \n",
    "MO_averages = MO_avg_cases.join(MO_avg_deaths)\n",
    "MO_averages"
   ]
  },
  {
   "cell_type": "code",
   "execution_count": 18,
   "id": "2d898b5b",
   "metadata": {},
   "outputs": [
    {
     "data": {
      "image/jpeg": "[encoded data removed]",
      "text/plain": [
       "<IPython.core.display.Image object>"
      ]
     },
     "execution_count": 18,
     "metadata": {},
     "output_type": "execute_result"
    }
   ],
   "source": [
    "mean = MO_avg_cases.mean()\n",
    "p = 1/mean\n",
    "\n",
    "\n",
    "#fitting the geometric distripution\n",
    "y = stats.geom.pmf(MO_avg_cases, p)\n",
    "la = pd.DataFrame(y).join(MO_avg_cases) \n",
    "la.columns = ['probability','avg_new_cases']\n",
    "fig = la.plot(x= 'avg_new_cases',y='probability',kind = 'scatter')\n",
    "img_bytes = fig.to_image(format=\"jpeg\")\n",
    "Image(img_bytes)"
   ]
  },
  {
   "cell_type": "markdown",
   "id": "7c301ee2",
   "metadata": {},
   "source": [
    "- The graph above represents a geometric distribution, where p is the  0.0.0127 probability success rate of seeing a new case. The probability of seeing one new case is significantly higher than Arizonas. So much so that the average new cases is 3. The spread of the graph is significantly lower than arizonas. Meaning that Missouri has a lower variance in avg new cases compared to arizona. As like Arizona the graph has one peak, unimodal, and is skewed to the right. "
   ]
  },
  {
   "cell_type": "markdown",
   "id": "bf362d13",
   "metadata": {},
   "source": [
    "## Poisson Distribution"
   ]
  },
  {
   "cell_type": "markdown",
   "id": "01e4d31c",
   "metadata": {},
   "source": [
    "Now we will fit a Poisson Distribution to the data. Using method of moments we can fit the pmf of a poisson distribution with our lambda being the mean. First we need to normalize the data "
   ]
  },
  {
   "cell_type": "code",
   "execution_count": 19,
   "id": "45338fc5",
   "metadata": {},
   "outputs": [],
   "source": [
    "#Normalizing\n",
    "AZ_averages = AZ_averages.apply(lambda x: (x/7640796) *100000)\n",
    "WA_averages = WA_averages.apply(lambda x: (x/7887965) *100000)\n",
    "TN_averages = TN_averages.apply(lambda x: (x/7001803) *100000)\n",
    "MA_averages = MA_averages.apply(lambda x: (x/6922107) *100000)\n",
    "IN_averages = IN_averages.apply(lambda x: (x/6842385) *100000)\n",
    "MO_averages = MO_averages.apply(lambda x: (x/6184843) *100000)"
   ]
  },
  {
   "cell_type": "markdown",
   "id": "f01d932d",
   "metadata": {},
   "source": [
    "We will now find the PMF of our poisson distribution values with the range of values being the min-max of our averages. The pmf will tell us the probability of obtaining each number of new cases in the given time frame for the respective state."
   ]
  },
  {
   "cell_type": "code",
   "execution_count": 20,
   "id": "d0818cda",
   "metadata": {},
   "outputs": [],
   "source": [
    "#az poisson\n",
    "AZ_range = range(int(AZ_averages['AZ_cases_avg'].min()), int(AZ_averages['AZ_cases_avg'].max()))\n",
    "AZ_poisson = stats.poisson.pmf(AZ_range, AZ_averages['AZ_cases_avg'].mean())\n",
    "\n",
    "#WA poisson\n",
    "WA_range = range(int(WA_averages['WA_cases_avg'].min()), int(WA_averages['WA_cases_avg'].max()))\n",
    "WA_poisson = stats.poisson.pmf(WA_range, WA_averages['WA_cases_avg'].mean())\n",
    "\n",
    "#TN poisson\n",
    "TN_range = range(int(TN_averages['TN_cases_avg'].min()), int(TN_averages['TN_cases_avg'].max()))\n",
    "TN_poisson = stats.poisson.pmf(TN_range, TN_averages['TN_cases_avg'].mean())\n",
    "\n",
    "#MA poisson\n",
    "MA_range = range(int(MA_averages['MA_cases_avg'].min()), int(MA_averages['MA_cases_avg'].max()))\n",
    "MA_poisson = stats.poisson.pmf(MA_range, MA_averages['MA_cases_avg'].mean())\n",
    "\n",
    "#IN poisson\n",
    "IN_range = range(int(IN_averages['IN_cases_avg'].min()), int(IN_averages['IN_cases_avg'].max()))\n",
    "IN_poisson = stats.poisson.pmf(IN_range, IN_averages['IN_cases_avg'].mean())\n",
    "\n",
    "#MO poisson\n",
    "MO_range = range(int(MO_averages['MO_cases_avg'].min()), int(MO_averages['MO_cases_avg'].max()))\n",
    "MO_poisson = stats.poisson.pmf(MO_range, MO_averages['MO_cases_avg'].mean())"
   ]
  },
  {
   "cell_type": "code",
   "execution_count": 21,
   "id": "c9cbf0b3",
   "metadata": {},
   "outputs": [
    {
     "data": {
      "image/jpeg": "[encoded data removed]",
      "text/plain": [
       "<IPython.core.display.Image object>"
      ]
     },
     "execution_count": 21,
     "metadata": {},
     "output_type": "execute_result"
    }
   ],
   "source": [
    "fig = pd.DataFrame(AZ_poisson).plot(x = range(len(pd.DataFrame(AZ_poisson).index)), y = AZ_poisson)\n",
    "fig.add_scatter( y= WA_poisson, name = \"Washington\",mode='lines' )\n",
    "fig.add_scatter( y= IN_poisson, name = \"Indiana\",mode='lines' )\n",
    "fig.add_scatter( y= TN_poisson, name = \"Tennessee\",mode='lines' )\n",
    "fig.add_scatter( y= MO_poisson, name = \"Missouri\",mode='lines' )\n",
    "fig.add_scatter( y= MA_poisson, name = \"Massachussets\",mode='lines' )\n",
    "\n",
    "fig.update_layout(\n",
    "    title=\"Poisson PMFs\",\n",
    "    xaxis_title=\"new cases avg\",\n",
    "    yaxis_title=\"probability\")\n",
    "img_bytes = fig.to_image(format=\"jpeg\")\n",
    "Image(img_bytes)"
   ]
  },
  {
   "cell_type": "markdown",
   "id": "2b96317e",
   "metadata": {},
   "source": [
    "After plotting the data above we can see the probabilities. We should note that Massachusets had such low averages that the max number of average new cases was 0, so it did not show on the graph. Arizonna overall has lower total probabilities but they have a significant more number of new average cases. The other states all have the highest probability of ~ 1 or 2 cases while Arizona has their highest probability at an average of 10 new cases. All of the states have one peak so they are unimodal. Compared to the geometric distribution, these layouts graphs follow more of a normal curve. While there is a skew for the Arizona data, the other 5 states do not have extreme right skews like in the geometric distribution. "
   ]
  },
  {
   "cell_type": "markdown",
   "id": "3c2a50bf",
   "metadata": {},
   "source": [
    "Now lets do the same thing for the average new deaths"
   ]
  },
  {
   "cell_type": "code",
   "execution_count": 22,
   "id": "9c47b922",
   "metadata": {},
   "outputs": [],
   "source": [
    "#az poisson\n",
    "AZ_range = range(int(AZ_averages['AZ_deaths_avg'].min()), int(AZ_averages['AZ_deaths_avg'].max()))\n",
    "AZ_poisson = stats.poisson.pmf(AZ_range, AZ_averages['AZ_deaths_avg'].mean())\n",
    "\n",
    "#WA poisson\n",
    "WA_range = range(int(WA_averages['WA_deaths_avg'].min()), int(WA_averages['WA_deaths_avg'].max()))\n",
    "WA_poisson = stats.poisson.pmf(WA_range, WA_averages['WA_deaths_avg'].mean())\n",
    "\n",
    "#TN poisson\n",
    "TN_range = range(int(TN_averages['TN_deaths_avg'].min()), int(TN_averages['TN_deaths_avg'].max()))\n",
    "TN_poisson = stats.poisson.pmf(TN_range, TN_averages['TN_deaths_avg'].mean())\n",
    "\n",
    "#MA poisson\n",
    "MA_range = range(int(MA_averages['MA_deaths_avg'].min()), int(MA_averages['MA_deaths_avg'].max()))\n",
    "MA_poisson = stats.poisson.pmf(MA_range, MA_averages['MA_deaths_avg'].mean())\n",
    "\n",
    "#IN poisson\n",
    "IN_range = range(int(IN_averages['IN_deaths_avg'].min()), int(IN_averages['IN_deaths_avg'].max()))\n",
    "IN_poisson = stats.poisson.pmf(IN_range, IN_averages['IN_deaths_avg'].mean())\n",
    "\n",
    "#MO poisson\n",
    "MO_range = range(int(MO_averages['MO_deaths_avg'].min()), int(MO_averages['MO_deaths_avg'].max()))\n",
    "MO_poisson = stats.poisson.pmf(MO_range, MO_averages['MO_deaths_avg'].mean())"
   ]
  },
  {
   "cell_type": "code",
   "execution_count": 23,
   "id": "807dd580",
   "metadata": {},
   "outputs": [
    {
     "name": "stdout",
     "output_type": "stream",
     "text": [
      "Arizona 0    0.822147\n",
      "dtype: float64\n",
      "Washington 0   NaN\n",
      "dtype: float64\n",
      "Tennessee 0   NaN\n",
      "dtype: float64\n",
      "Indiana 0   NaN\n",
      "dtype: float64\n",
      "Missouri 0   NaN\n",
      "dtype: float64\n",
      "Massachusetts 0   NaN\n",
      "dtype: float64\n"
     ]
    }
   ],
   "source": [
    "print(\"Arizona\", pd.DataFrame(AZ_poisson).max())\n",
    "print(\"Washington\", pd.DataFrame(WA_poisson).max())\n",
    "print(\"Tennessee\",pd.DataFrame(TN_poisson).max())\n",
    "print(\"Indiana\",pd.DataFrame(IN_poisson).max())\n",
    "print(\"Missouri\",pd.DataFrame(MO_poisson).max())\n",
    "print(\"Massachusetts\",pd.DataFrame(MA_poisson).max())\n"
   ]
  },
  {
   "cell_type": "markdown",
   "id": "5d33df8d",
   "metadata": {},
   "source": [
    "Above are the max probabilities for these states. We have to note that the average new deaths across the board was constantly 0 or a decimal value, so using the PMF function in this case always resulted in 0. "
   ]
  },
  {
   "cell_type": "markdown",
   "id": "7514ea24",
   "metadata": {},
   "source": [
    "## Correlation"
   ]
  },
  {
   "cell_type": "markdown",
   "id": "dc60934f",
   "metadata": {},
   "source": [
    "Now we will attempt to find the correlation between the average of Arizona weekly new cases and deaths and demographic attributes"
   ]
  },
  {
   "cell_type": "markdown",
   "id": "89937f3a",
   "metadata": {},
   "source": [
    "First we will need to obtain our demographic data"
   ]
  },
  {
   "cell_type": "code",
   "execution_count": 24,
   "id": "64a1d3fd",
   "metadata": {
    "scrolled": false
   },
   "outputs": [],
   "source": [
    "#reading demographic data\n",
    "demographic = pd.read_csv(\"../../../../data/stage_1/acs demographic.csv\", header = 1)\n",
    "demographic.head()\n",
    "#creating the index\n",
    "demographic['id'] = (demographic['id'].str[-5:]).astype(int)"
   ]
  },
  {
   "cell_type": "markdown",
   "id": "17b3ec32",
   "metadata": {},
   "source": [
    "Now we can merge it with our Arizona data on the countyFIPS"
   ]
  },
  {
   "cell_type": "code",
   "execution_count": 25,
   "id": "46c62989",
   "metadata": {
    "scrolled": false
   },
   "outputs": [
    {
     "data": {
      "text/html": [
       "<div>\n",
       "<style scoped>\n",
       "    .dataframe tbody tr th:only-of-type {\n",
       "        vertical-align: middle;\n",
       "    }\n",
       "\n",
       "    .dataframe tbody tr th {\n",
       "        vertical-align: top;\n",
       "    }\n",
       "\n",
       "    .dataframe thead th {\n",
       "        text-align: right;\n",
       "    }\n",
       "</style>\n",
       "<table border=\"1\" class=\"dataframe\">\n",
       "  <thead>\n",
       "    <tr style=\"text-align: right;\">\n",
       "      <th></th>\n",
       "      <th>AZ_deaths_avg</th>\n",
       "      <th>AZ_cases_avg</th>\n",
       "      <th>countyFIPS</th>\n",
       "      <th>Estimate Total population</th>\n",
       "      <th>Margin of Error Total population</th>\n",
       "      <th>Percent Total population</th>\n",
       "      <th>Percent Margin of Error Total population</th>\n",
       "      <th>Estimate Total population Male</th>\n",
       "      <th>Margin of Error Total population Male</th>\n",
       "      <th>Percent Total population Male</th>\n",
       "      <th>...</th>\n",
       "      <th>Estimate Citizen, 18 and over population Male</th>\n",
       "      <th>Margin of Error Citizen, 18 and over population Male</th>\n",
       "      <th>Percent Citizen, 18 and over population Male</th>\n",
       "      <th>Percent Margin of Error Citizen, 18 and over population Male</th>\n",
       "      <th>Estimate Citizen, 18 and over population Female</th>\n",
       "      <th>Margin of Error Citizen, 18 and over population Female</th>\n",
       "      <th>Percent Citizen, 18 and over population Female</th>\n",
       "      <th>Percent Margin of Error Citizen, 18 and over population Female</th>\n",
       "      <th>id</th>\n",
       "      <th>Geographic Area Name</th>\n",
       "    </tr>\n",
       "  </thead>\n",
       "  <tbody>\n",
       "    <tr>\n",
       "      <th>0</th>\n",
       "      <td>5.0</td>\n",
       "      <td>147.0</td>\n",
       "      <td>4001</td>\n",
       "      <td>71887.0</td>\n",
       "      <td>*****</td>\n",
       "      <td>71887.0</td>\n",
       "      <td>(X)</td>\n",
       "      <td>36435.0</td>\n",
       "      <td>626</td>\n",
       "      <td>50.7</td>\n",
       "      <td>...</td>\n",
       "      <td>26167.0</td>\n",
       "      <td>680.0</td>\n",
       "      <td>49.7</td>\n",
       "      <td>0.9</td>\n",
       "      <td>26483.0</td>\n",
       "      <td>428.0</td>\n",
       "      <td>50.3</td>\n",
       "      <td>0.9</td>\n",
       "      <td>4001.0</td>\n",
       "      <td>Apache County, Arizona</td>\n",
       "    </tr>\n",
       "    <tr>\n",
       "      <th>1</th>\n",
       "      <td>4.0</td>\n",
       "      <td>154.0</td>\n",
       "      <td>4003</td>\n",
       "      <td>125922.0</td>\n",
       "      <td>*****</td>\n",
       "      <td>125922.0</td>\n",
       "      <td>(X)</td>\n",
       "      <td>64204.0</td>\n",
       "      <td>969</td>\n",
       "      <td>51.0</td>\n",
       "      <td>...</td>\n",
       "      <td>48203.0</td>\n",
       "      <td>1107.0</td>\n",
       "      <td>51.7</td>\n",
       "      <td>1.0</td>\n",
       "      <td>44991.0</td>\n",
       "      <td>1202.0</td>\n",
       "      <td>48.3</td>\n",
       "      <td>1.0</td>\n",
       "      <td>4003.0</td>\n",
       "      <td>Cochise County, Arizona</td>\n",
       "    </tr>\n",
       "    <tr>\n",
       "      <th>2</th>\n",
       "      <td>4.0</td>\n",
       "      <td>234.0</td>\n",
       "      <td>4005</td>\n",
       "      <td>143476.0</td>\n",
       "      <td>*****</td>\n",
       "      <td>143476.0</td>\n",
       "      <td>(X)</td>\n",
       "      <td>71036.0</td>\n",
       "      <td>1057</td>\n",
       "      <td>49.5</td>\n",
       "      <td>...</td>\n",
       "      <td>55075.0</td>\n",
       "      <td>773.0</td>\n",
       "      <td>48.8</td>\n",
       "      <td>0.6</td>\n",
       "      <td>57851.0</td>\n",
       "      <td>779.0</td>\n",
       "      <td>51.2</td>\n",
       "      <td>0.6</td>\n",
       "      <td>4005.0</td>\n",
       "      <td>Coconino County, Arizona</td>\n",
       "    </tr>\n",
       "    <tr>\n",
       "      <th>7</th>\n",
       "      <td>129.0</td>\n",
       "      <td>7448.0</td>\n",
       "      <td>4013</td>\n",
       "      <td>4485414.0</td>\n",
       "      <td>*****</td>\n",
       "      <td>4485414.0</td>\n",
       "      <td>(X)</td>\n",
       "      <td>2217116.0</td>\n",
       "      <td>479</td>\n",
       "      <td>49.4</td>\n",
       "      <td>...</td>\n",
       "      <td>1503528.0</td>\n",
       "      <td>8066.0</td>\n",
       "      <td>48.8</td>\n",
       "      <td>0.1</td>\n",
       "      <td>1578940.0</td>\n",
       "      <td>8232.0</td>\n",
       "      <td>51.2</td>\n",
       "      <td>0.1</td>\n",
       "      <td>4013.0</td>\n",
       "      <td>Maricopa County, Arizona</td>\n",
       "    </tr>\n",
       "    <tr>\n",
       "      <th>8</th>\n",
       "      <td>10.0</td>\n",
       "      <td>328.0</td>\n",
       "      <td>4015</td>\n",
       "      <td>212181.0</td>\n",
       "      <td>*****</td>\n",
       "      <td>212181.0</td>\n",
       "      <td>(X)</td>\n",
       "      <td>106919.0</td>\n",
       "      <td>934</td>\n",
       "      <td>50.4</td>\n",
       "      <td>...</td>\n",
       "      <td>86451.0</td>\n",
       "      <td>1324.0</td>\n",
       "      <td>50.6</td>\n",
       "      <td>0.5</td>\n",
       "      <td>84552.0</td>\n",
       "      <td>1394.0</td>\n",
       "      <td>49.4</td>\n",
       "      <td>0.5</td>\n",
       "      <td>4015.0</td>\n",
       "      <td>Mohave County, Arizona</td>\n",
       "    </tr>\n",
       "    <tr>\n",
       "      <th>9</th>\n",
       "      <td>7.0</td>\n",
       "      <td>217.0</td>\n",
       "      <td>4017</td>\n",
       "      <td>110924.0</td>\n",
       "      <td>*****</td>\n",
       "      <td>110924.0</td>\n",
       "      <td>(X)</td>\n",
       "      <td>54994.0</td>\n",
       "      <td>663</td>\n",
       "      <td>49.6</td>\n",
       "      <td>...</td>\n",
       "      <td>40165.0</td>\n",
       "      <td>452.0</td>\n",
       "      <td>50.0</td>\n",
       "      <td>0.4</td>\n",
       "      <td>40245.0</td>\n",
       "      <td>652.0</td>\n",
       "      <td>50.0</td>\n",
       "      <td>0.4</td>\n",
       "      <td>4017.0</td>\n",
       "      <td>Navajo County, Arizona</td>\n",
       "    </tr>\n",
       "    <tr>\n",
       "      <th>10</th>\n",
       "      <td>30.0</td>\n",
       "      <td>1505.0</td>\n",
       "      <td>4019</td>\n",
       "      <td>1047279.0</td>\n",
       "      <td>*****</td>\n",
       "      <td>1047279.0</td>\n",
       "      <td>(X)</td>\n",
       "      <td>516110.0</td>\n",
       "      <td>495</td>\n",
       "      <td>49.3</td>\n",
       "      <td>...</td>\n",
       "      <td>371071.0</td>\n",
       "      <td>4038.0</td>\n",
       "      <td>48.8</td>\n",
       "      <td>0.3</td>\n",
       "      <td>390039.0</td>\n",
       "      <td>3941.0</td>\n",
       "      <td>51.2</td>\n",
       "      <td>0.3</td>\n",
       "      <td>4019.0</td>\n",
       "      <td>Pima County, Arizona</td>\n",
       "    </tr>\n",
       "    <tr>\n",
       "      <th>11</th>\n",
       "      <td>11.0</td>\n",
       "      <td>726.0</td>\n",
       "      <td>4021</td>\n",
       "      <td>462789.0</td>\n",
       "      <td>*****</td>\n",
       "      <td>462789.0</td>\n",
       "      <td>(X)</td>\n",
       "      <td>241369.0</td>\n",
       "      <td>889</td>\n",
       "      <td>52.2</td>\n",
       "      <td>...</td>\n",
       "      <td>178886.0</td>\n",
       "      <td>1803.0</td>\n",
       "      <td>52.7</td>\n",
       "      <td>0.4</td>\n",
       "      <td>160703.0</td>\n",
       "      <td>2146.0</td>\n",
       "      <td>47.3</td>\n",
       "      <td>0.4</td>\n",
       "      <td>4021.0</td>\n",
       "      <td>Pinal County, Arizona</td>\n",
       "    </tr>\n",
       "    <tr>\n",
       "      <th>13</th>\n",
       "      <td>7.0</td>\n",
       "      <td>271.0</td>\n",
       "      <td>4025</td>\n",
       "      <td>235099.0</td>\n",
       "      <td>*****</td>\n",
       "      <td>235099.0</td>\n",
       "      <td>(X)</td>\n",
       "      <td>115634.0</td>\n",
       "      <td>813</td>\n",
       "      <td>49.2</td>\n",
       "      <td>...</td>\n",
       "      <td>92791.0</td>\n",
       "      <td>1479.0</td>\n",
       "      <td>49.0</td>\n",
       "      <td>0.6</td>\n",
       "      <td>96768.0</td>\n",
       "      <td>1568.0</td>\n",
       "      <td>51.0</td>\n",
       "      <td>0.6</td>\n",
       "      <td>4025.0</td>\n",
       "      <td>Yavapai County, Arizona</td>\n",
       "    </tr>\n",
       "    <tr>\n",
       "      <th>14</th>\n",
       "      <td>10.0</td>\n",
       "      <td>467.0</td>\n",
       "      <td>4027</td>\n",
       "      <td>213787.0</td>\n",
       "      <td>*****</td>\n",
       "      <td>213787.0</td>\n",
       "      <td>(X)</td>\n",
       "      <td>110189.0</td>\n",
       "      <td>591</td>\n",
       "      <td>51.5</td>\n",
       "      <td>...</td>\n",
       "      <td>69067.0</td>\n",
       "      <td>2325.0</td>\n",
       "      <td>52.4</td>\n",
       "      <td>1.0</td>\n",
       "      <td>62733.0</td>\n",
       "      <td>1984.0</td>\n",
       "      <td>47.6</td>\n",
       "      <td>1.0</td>\n",
       "      <td>4027.0</td>\n",
       "      <td>Yuma County, Arizona</td>\n",
       "    </tr>\n",
       "  </tbody>\n",
       "</table>\n",
       "<p>10 rows × 361 columns</p>\n",
       "</div>"
      ],
      "text/plain": [
       "    AZ_deaths_avg  AZ_cases_avg  countyFIPS  Estimate Total population  \\\n",
       "0             5.0         147.0        4001                    71887.0   \n",
       "1             4.0         154.0        4003                   125922.0   \n",
       "2             4.0         234.0        4005                   143476.0   \n",
       "7           129.0        7448.0        4013                  4485414.0   \n",
       "8            10.0         328.0        4015                   212181.0   \n",
       "9             7.0         217.0        4017                   110924.0   \n",
       "10           30.0        1505.0        4019                  1047279.0   \n",
       "11           11.0         726.0        4021                   462789.0   \n",
       "13            7.0         271.0        4025                   235099.0   \n",
       "14           10.0         467.0        4027                   213787.0   \n",
       "\n",
       "   Margin of Error Total population  Percent Total population  \\\n",
       "0                             *****                   71887.0   \n",
       "1                             *****                  125922.0   \n",
       "2                             *****                  143476.0   \n",
       "7                             *****                 4485414.0   \n",
       "8                             *****                  212181.0   \n",
       "9                             *****                  110924.0   \n",
       "10                            *****                 1047279.0   \n",
       "11                            *****                  462789.0   \n",
       "13                            *****                  235099.0   \n",
       "14                            *****                  213787.0   \n",
       "\n",
       "   Percent Margin of Error Total population  Estimate Total population Male  \\\n",
       "0                                       (X)                         36435.0   \n",
       "1                                       (X)                         64204.0   \n",
       "2                                       (X)                         71036.0   \n",
       "7                                       (X)                       2217116.0   \n",
       "8                                       (X)                        106919.0   \n",
       "9                                       (X)                         54994.0   \n",
       "10                                      (X)                        516110.0   \n",
       "11                                      (X)                        241369.0   \n",
       "13                                      (X)                        115634.0   \n",
       "14                                      (X)                        110189.0   \n",
       "\n",
       "   Margin of Error Total population Male  Percent Total population Male  ...  \\\n",
       "0                                    626                           50.7  ...   \n",
       "1                                    969                           51.0  ...   \n",
       "2                                   1057                           49.5  ...   \n",
       "7                                    479                           49.4  ...   \n",
       "8                                    934                           50.4  ...   \n",
       "9                                    663                           49.6  ...   \n",
       "10                                   495                           49.3  ...   \n",
       "11                                   889                           52.2  ...   \n",
       "13                                   813                           49.2  ...   \n",
       "14                                   591                           51.5  ...   \n",
       "\n",
       "   Estimate Citizen, 18 and over population Male  \\\n",
       "0                                        26167.0   \n",
       "1                                        48203.0   \n",
       "2                                        55075.0   \n",
       "7                                      1503528.0   \n",
       "8                                        86451.0   \n",
       "9                                        40165.0   \n",
       "10                                      371071.0   \n",
       "11                                      178886.0   \n",
       "13                                       92791.0   \n",
       "14                                       69067.0   \n",
       "\n",
       "    Margin of Error Citizen, 18 and over population Male  \\\n",
       "0                                               680.0      \n",
       "1                                              1107.0      \n",
       "2                                               773.0      \n",
       "7                                              8066.0      \n",
       "8                                              1324.0      \n",
       "9                                               452.0      \n",
       "10                                             4038.0      \n",
       "11                                             1803.0      \n",
       "13                                             1479.0      \n",
       "14                                             2325.0      \n",
       "\n",
       "   Percent Citizen, 18 and over population Male  \\\n",
       "0                                          49.7   \n",
       "1                                          51.7   \n",
       "2                                          48.8   \n",
       "7                                          48.8   \n",
       "8                                          50.6   \n",
       "9                                          50.0   \n",
       "10                                         48.8   \n",
       "11                                         52.7   \n",
       "13                                         49.0   \n",
       "14                                         52.4   \n",
       "\n",
       "    Percent Margin of Error Citizen, 18 and over population Male  \\\n",
       "0                                                 0.9              \n",
       "1                                                 1.0              \n",
       "2                                                 0.6              \n",
       "7                                                 0.1              \n",
       "8                                                 0.5              \n",
       "9                                                 0.4              \n",
       "10                                                0.3              \n",
       "11                                                0.4              \n",
       "13                                                0.6              \n",
       "14                                                1.0              \n",
       "\n",
       "   Estimate Citizen, 18 and over population Female  \\\n",
       "0                                          26483.0   \n",
       "1                                          44991.0   \n",
       "2                                          57851.0   \n",
       "7                                        1578940.0   \n",
       "8                                          84552.0   \n",
       "9                                          40245.0   \n",
       "10                                        390039.0   \n",
       "11                                        160703.0   \n",
       "13                                         96768.0   \n",
       "14                                         62733.0   \n",
       "\n",
       "    Margin of Error Citizen, 18 and over population Female  \\\n",
       "0                                               428.0        \n",
       "1                                              1202.0        \n",
       "2                                               779.0        \n",
       "7                                              8232.0        \n",
       "8                                              1394.0        \n",
       "9                                               652.0        \n",
       "10                                             3941.0        \n",
       "11                                             2146.0        \n",
       "13                                             1568.0        \n",
       "14                                             1984.0        \n",
       "\n",
       "   Percent Citizen, 18 and over population Female  \\\n",
       "0                                            50.3   \n",
       "1                                            48.3   \n",
       "2                                            51.2   \n",
       "7                                            51.2   \n",
       "8                                            49.4   \n",
       "9                                            50.0   \n",
       "10                                           51.2   \n",
       "11                                           47.3   \n",
       "13                                           51.0   \n",
       "14                                           47.6   \n",
       "\n",
       "   Percent Margin of Error Citizen, 18 and over population Female      id  \\\n",
       "0                                                 0.9              4001.0   \n",
       "1                                                 1.0              4003.0   \n",
       "2                                                 0.6              4005.0   \n",
       "7                                                 0.1              4013.0   \n",
       "8                                                 0.5              4015.0   \n",
       "9                                                 0.4              4017.0   \n",
       "10                                                0.3              4019.0   \n",
       "11                                                0.4              4021.0   \n",
       "13                                                0.6              4025.0   \n",
       "14                                                1.0              4027.0   \n",
       "\n",
       "        Geographic Area Name  \n",
       "0     Apache County, Arizona  \n",
       "1    Cochise County, Arizona  \n",
       "2   Coconino County, Arizona  \n",
       "7   Maricopa County, Arizona  \n",
       "8     Mohave County, Arizona  \n",
       "9     Navajo County, Arizona  \n",
       "10      Pima County, Arizona  \n",
       "11     Pinal County, Arizona  \n",
       "13   Yavapai County, Arizona  \n",
       "14      Yuma County, Arizona  \n",
       "\n",
       "[10 rows x 361 columns]"
      ]
     },
     "execution_count": 25,
     "metadata": {},
     "output_type": "execute_result"
    }
   ],
   "source": [
    "#Getting the average weekly deaths per county \n",
    "AZ_avg_deaths = pd.DataFrame(AZ_week_deaths.mean(axis=1).round())\n",
    "AZ_avg_deaths.columns = ['AZ_deaths_avg']\n",
    "\n",
    "#Getting the average weekly cases per county \n",
    "AZ_avg_cases = pd.DataFrame(AZ_week_cases.mean(axis=1).round())\n",
    "AZ_avg_cases.columns = ['AZ_cases_avg']\n",
    "\n",
    "#joining all of the data\n",
    "AZ_avg_cd = AZ_avg_deaths.join(AZ_avg_cases)\n",
    "AZ_avg_cd_ = AZ_avg_cd.join(AZ_cases['countyFIPS'])\n",
    "AZ_avg_cd_ = pd.merge(AZ_avg_cd_, demographic,left_on = 'countyFIPS', right_on= 'id', how = 'left')\n",
    "\n",
    "#Dropping the counties if they have no demographic data\n",
    "AZ_avg_cd_ = AZ_avg_cd_.dropna()\n",
    "AZ_avg_cd_"
   ]
  },
  {
   "cell_type": "markdown",
   "id": "d5d2921d",
   "metadata": {},
   "source": [
    "For this correlation id like to see if there is a correlation between number of average deaths and the amount of population 18 and over female. and 18 and over male "
   ]
  },
  {
   "cell_type": "code",
   "execution_count": 26,
   "id": "ec15aff6",
   "metadata": {},
   "outputs": [
    {
     "data": {
      "text/html": [
       "<div>\n",
       "<style scoped>\n",
       "    .dataframe tbody tr th:only-of-type {\n",
       "        vertical-align: middle;\n",
       "    }\n",
       "\n",
       "    .dataframe tbody tr th {\n",
       "        vertical-align: top;\n",
       "    }\n",
       "\n",
       "    .dataframe thead th {\n",
       "        text-align: right;\n",
       "    }\n",
       "</style>\n",
       "<table border=\"1\" class=\"dataframe\">\n",
       "  <thead>\n",
       "    <tr style=\"text-align: right;\">\n",
       "      <th></th>\n",
       "      <th>AZ_deaths_avg</th>\n",
       "      <th>AZ_cases_avg</th>\n",
       "      <th>Percent Total population Under 18 years</th>\n",
       "      <th>Percent Total population 18 years and over</th>\n",
       "      <th>Percent Total population 65 years and over</th>\n",
       "    </tr>\n",
       "  </thead>\n",
       "  <tbody>\n",
       "    <tr>\n",
       "      <th>0</th>\n",
       "      <td>5.0</td>\n",
       "      <td>147.0</td>\n",
       "      <td>26.6</td>\n",
       "      <td>73.4</td>\n",
       "      <td>16.1</td>\n",
       "    </tr>\n",
       "    <tr>\n",
       "      <th>1</th>\n",
       "      <td>4.0</td>\n",
       "      <td>154.0</td>\n",
       "      <td>21.4</td>\n",
       "      <td>78.6</td>\n",
       "      <td>23.0</td>\n",
       "    </tr>\n",
       "    <tr>\n",
       "      <th>2</th>\n",
       "      <td>4.0</td>\n",
       "      <td>234.0</td>\n",
       "      <td>19.5</td>\n",
       "      <td>80.5</td>\n",
       "      <td>13.0</td>\n",
       "    </tr>\n",
       "    <tr>\n",
       "      <th>7</th>\n",
       "      <td>129.0</td>\n",
       "      <td>7448.0</td>\n",
       "      <td>23.5</td>\n",
       "      <td>76.5</td>\n",
       "      <td>15.5</td>\n",
       "    </tr>\n",
       "    <tr>\n",
       "      <th>8</th>\n",
       "      <td>10.0</td>\n",
       "      <td>328.0</td>\n",
       "      <td>16.8</td>\n",
       "      <td>83.2</td>\n",
       "      <td>31.0</td>\n",
       "    </tr>\n",
       "    <tr>\n",
       "      <th>9</th>\n",
       "      <td>7.0</td>\n",
       "      <td>217.0</td>\n",
       "      <td>26.3</td>\n",
       "      <td>73.7</td>\n",
       "      <td>18.5</td>\n",
       "    </tr>\n",
       "    <tr>\n",
       "      <th>10</th>\n",
       "      <td>30.0</td>\n",
       "      <td>1505.0</td>\n",
       "      <td>20.6</td>\n",
       "      <td>79.4</td>\n",
       "      <td>20.3</td>\n",
       "    </tr>\n",
       "    <tr>\n",
       "      <th>11</th>\n",
       "      <td>11.0</td>\n",
       "      <td>726.0</td>\n",
       "      <td>22.2</td>\n",
       "      <td>77.8</td>\n",
       "      <td>20.7</td>\n",
       "    </tr>\n",
       "    <tr>\n",
       "      <th>13</th>\n",
       "      <td>7.0</td>\n",
       "      <td>271.0</td>\n",
       "      <td>15.8</td>\n",
       "      <td>84.2</td>\n",
       "      <td>32.8</td>\n",
       "    </tr>\n",
       "    <tr>\n",
       "      <th>14</th>\n",
       "      <td>10.0</td>\n",
       "      <td>467.0</td>\n",
       "      <td>25.1</td>\n",
       "      <td>74.9</td>\n",
       "      <td>19.1</td>\n",
       "    </tr>\n",
       "  </tbody>\n",
       "</table>\n",
       "</div>"
      ],
      "text/plain": [
       "    AZ_deaths_avg  AZ_cases_avg  Percent Total population Under 18 years  \\\n",
       "0             5.0         147.0                                     26.6   \n",
       "1             4.0         154.0                                     21.4   \n",
       "2             4.0         234.0                                     19.5   \n",
       "7           129.0        7448.0                                     23.5   \n",
       "8            10.0         328.0                                     16.8   \n",
       "9             7.0         217.0                                     26.3   \n",
       "10           30.0        1505.0                                     20.6   \n",
       "11           11.0         726.0                                     22.2   \n",
       "13            7.0         271.0                                     15.8   \n",
       "14           10.0         467.0                                     25.1   \n",
       "\n",
       "    Percent Total population 18 years and over  \\\n",
       "0                                         73.4   \n",
       "1                                         78.6   \n",
       "2                                         80.5   \n",
       "7                                         76.5   \n",
       "8                                         83.2   \n",
       "9                                         73.7   \n",
       "10                                        79.4   \n",
       "11                                        77.8   \n",
       "13                                        84.2   \n",
       "14                                        74.9   \n",
       "\n",
       "    Percent Total population 65 years and over  \n",
       "0                                         16.1  \n",
       "1                                         23.0  \n",
       "2                                         13.0  \n",
       "7                                         15.5  \n",
       "8                                         31.0  \n",
       "9                                         18.5  \n",
       "10                                        20.3  \n",
       "11                                        20.7  \n",
       "13                                        32.8  \n",
       "14                                        19.1  "
      ]
     },
     "execution_count": 26,
     "metadata": {},
     "output_type": "execute_result"
    }
   ],
   "source": [
    "AZ_avgs= AZ_avg_cd_[['AZ_deaths_avg', 'AZ_cases_avg','Percent Total population Under 18 years','Percent Total population 18 years and over','Percent Total population 65 years and over']]\n",
    "AZ_avgs\n"
   ]
  },
  {
   "cell_type": "code",
   "execution_count": 27,
   "id": "bc192953",
   "metadata": {},
   "outputs": [
    {
     "data": {
      "text/html": [
       "<div>\n",
       "<style scoped>\n",
       "    .dataframe tbody tr th:only-of-type {\n",
       "        vertical-align: middle;\n",
       "    }\n",
       "\n",
       "    .dataframe tbody tr th {\n",
       "        vertical-align: top;\n",
       "    }\n",
       "\n",
       "    .dataframe thead th {\n",
       "        text-align: right;\n",
       "    }\n",
       "</style>\n",
       "<table border=\"1\" class=\"dataframe\">\n",
       "  <thead>\n",
       "    <tr style=\"text-align: right;\">\n",
       "      <th></th>\n",
       "      <th>AZ_deaths_avg</th>\n",
       "      <th>AZ_cases_avg</th>\n",
       "      <th>Percent Total population Under 18 years</th>\n",
       "      <th>Percent Total population 18 years and over</th>\n",
       "      <th>Percent Total population 65 years and over</th>\n",
       "    </tr>\n",
       "  </thead>\n",
       "  <tbody>\n",
       "    <tr>\n",
       "      <th>AZ_deaths_avg</th>\n",
       "      <td>1.000000</td>\n",
       "      <td>0.998910</td>\n",
       "      <td>0.137743</td>\n",
       "      <td>-0.137743</td>\n",
       "      <td>-0.285956</td>\n",
       "    </tr>\n",
       "    <tr>\n",
       "      <th>AZ_cases_avg</th>\n",
       "      <td>0.998910</td>\n",
       "      <td>1.000000</td>\n",
       "      <td>0.142112</td>\n",
       "      <td>-0.142112</td>\n",
       "      <td>-0.303109</td>\n",
       "    </tr>\n",
       "    <tr>\n",
       "      <th>Percent Total population Under 18 years</th>\n",
       "      <td>0.137743</td>\n",
       "      <td>0.142112</td>\n",
       "      <td>1.000000</td>\n",
       "      <td>-1.000000</td>\n",
       "      <td>-0.708646</td>\n",
       "    </tr>\n",
       "    <tr>\n",
       "      <th>Percent Total population 18 years and over</th>\n",
       "      <td>-0.137743</td>\n",
       "      <td>-0.142112</td>\n",
       "      <td>-1.000000</td>\n",
       "      <td>1.000000</td>\n",
       "      <td>0.708646</td>\n",
       "    </tr>\n",
       "    <tr>\n",
       "      <th>Percent Total population 65 years and over</th>\n",
       "      <td>-0.285956</td>\n",
       "      <td>-0.303109</td>\n",
       "      <td>-0.708646</td>\n",
       "      <td>0.708646</td>\n",
       "      <td>1.000000</td>\n",
       "    </tr>\n",
       "  </tbody>\n",
       "</table>\n",
       "</div>"
      ],
      "text/plain": [
       "                                            AZ_deaths_avg  AZ_cases_avg  \\\n",
       "AZ_deaths_avg                                    1.000000      0.998910   \n",
       "AZ_cases_avg                                     0.998910      1.000000   \n",
       "Percent Total population Under 18 years          0.137743      0.142112   \n",
       "Percent Total population 18 years and over      -0.137743     -0.142112   \n",
       "Percent Total population 65 years and over      -0.285956     -0.303109   \n",
       "\n",
       "                                            Percent Total population Under 18 years  \\\n",
       "AZ_deaths_avg                                                              0.137743   \n",
       "AZ_cases_avg                                                               0.142112   \n",
       "Percent Total population Under 18 years                                    1.000000   \n",
       "Percent Total population 18 years and over                                -1.000000   \n",
       "Percent Total population 65 years and over                                -0.708646   \n",
       "\n",
       "                                            Percent Total population 18 years and over  \\\n",
       "AZ_deaths_avg                                                                -0.137743   \n",
       "AZ_cases_avg                                                                 -0.142112   \n",
       "Percent Total population Under 18 years                                      -1.000000   \n",
       "Percent Total population 18 years and over                                    1.000000   \n",
       "Percent Total population 65 years and over                                    0.708646   \n",
       "\n",
       "                                            Percent Total population 65 years and over  \n",
       "AZ_deaths_avg                                                                -0.285956  \n",
       "AZ_cases_avg                                                                 -0.303109  \n",
       "Percent Total population Under 18 years                                      -0.708646  \n",
       "Percent Total population 18 years and over                                    0.708646  \n",
       "Percent Total population 65 years and over                                    1.000000  "
      ]
     },
     "execution_count": 27,
     "metadata": {},
     "output_type": "execute_result"
    }
   ],
   "source": [
    "AZ_avgs.corr()\n"
   ]
  },
  {
   "cell_type": "markdown",
   "id": "62193675",
   "metadata": {},
   "source": [
    "From this table we can see the corelation between the variables. Deaths and under 18 population have a low positive corelation. And deaths and the above 18 population have a low negative correlation. Deaths and the 65 and over population have a low negative corelation as well. With the cases the trends are exactly the same"
   ]
  },
  {
   "cell_type": "markdown",
   "id": "5698f853",
   "metadata": {},
   "source": [
    "## Hypothesis"
   ]
  },
  {
   "cell_type": "markdown",
   "id": "334c1c4a",
   "metadata": {},
   "source": [
    "- Do higher percentages of population over 18 lead to higher covid case numbers?\n",
    "- Do higher percentages of population under 5 lead to higher covid case numbers?\n",
    "- Do higher percentages of female population lead to higher covid case numbers?"
   ]
  },
  {
   "cell_type": "code",
   "execution_count": null,
   "id": "ba8ed349",
   "metadata": {},
   "outputs": [],
   "source": []
  }
 ],
 "metadata": {
  "kernelspec": {
   "display_name": "myenv",
   "language": "python",
   "name": "myenv"
  },
  "language_info": {
   "codemirror_mode": {
    "name": "ipython",
    "version": 3
   },
   "file_extension": ".py",
   "mimetype": "text/x-python",
   "name": "python",
   "nbconvert_exporter": "python",
   "pygments_lexer": "ipython3",
   "version": "3.9.7"
  }
 },
 "nbformat": 4,
 "nbformat_minor": 5
}
